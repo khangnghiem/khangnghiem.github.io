{
 "cells": [
  {
   "cell_type": "markdown",
   "metadata": {},
   "source": [
    "# Decision Tree"
   ]
  },
  {
   "cell_type": "markdown",
   "metadata": {},
   "source": [
    "## Palmer's Penguins Dataset\n",
    "\n",
    "Predicting body mass of penguins based on numerous factors"
   ]
  },
  {
   "cell_type": "code",
   "execution_count": 1,
   "metadata": {},
   "outputs": [
    {
     "name": "stdout",
     "output_type": "stream",
     "text": [
      "  species     island  bill_length_mm  bill_depth_mm  flipper_length_mm  \\\n",
      "0  Adelie  Torgersen            39.1           18.7              181.0   \n",
      "1  Adelie  Torgersen            39.5           17.4              186.0   \n",
      "2  Adelie  Torgersen            40.3           18.0              195.0   \n",
      "4  Adelie  Torgersen            36.7           19.3              193.0   \n",
      "5  Adelie  Torgersen            39.3           20.6              190.0   \n",
      "\n",
      "   body_mass_g     sex  year  \n",
      "0       3750.0    male  2007  \n",
      "1       3800.0  female  2007  \n",
      "2       3250.0  female  2007  \n",
      "4       3450.0  female  2007  \n",
      "5       3650.0    male  2007  \n"
     ]
    },
    {
     "data": {
      "text/plain": [
       "array([3250., 3550., 4450., 3750., 3650., 4050., 5300., 3625., 5550.,\n",
       "       3950., 3000., 4600., 3950., 3900., 3750., 4300., 4375., 5050.,\n",
       "       4600., 3200., 4150., 3550., 3900., 4850., 3600., 3000., 5000.,\n",
       "       3800., 5000., 5550., 3150., 4100., 4250., 4500., 4875., 3400.,\n",
       "       4050., 5500., 3500., 3975., 3600., 4100., 4450., 5000., 3650.,\n",
       "       4200., 4800., 5400., 5000., 4250., 3975., 3250., 4250., 4050.,\n",
       "       3200., 3550., 5400., 3350., 3975., 3200., 3975., 3950., 4450.,\n",
       "       5050., 3075., 3200., 3550., 4300., 4250.])"
      ]
     },
     "execution_count": 1,
     "metadata": {},
     "output_type": "execute_result"
    }
   ],
   "source": [
    "from sklearn.model_selection import train_test_split\n",
    "import polars as pl\n",
    "import pandas as pd\n",
    "from sklearn.tree import DecisionTreeRegressor\n",
    "\n",
    "df = pd.read_parquet(\"../data/penguins.parquet\")\n",
    "\n",
    "df = df.dropna(\n",
    "    subset=[\n",
    "        \"bill_length_mm\",\n",
    "        \"bill_depth_mm\",\n",
    "        \"flipper_length_mm\",\n",
    "        \"body_mass_g\",\n",
    "    ]\n",
    ")\n",
    "\n",
    "# Only use numerial data for now\n",
    "# categorical_cols = [col for col in df.columns if df[col].dtype not in [pl.Float64, pl.Int64]]\n",
    "categorical_cols = [col for col in df.columns if df[col].dtype not in [\"float64\", \"int64\"]]\n",
    "y = df[\"body_mass_g\"]\n",
    "X = df.drop(categorical_cols + [\"body_mass_g\"], axis=1)\n",
    "\n",
    "X_train, X_valid, y_train, y_valid = train_test_split(\n",
    "    X, y, train_size=0.8, test_size=0.2, random_state=0\n",
    ")\n",
    "\n",
    "# # scikit-learn not working with polars!\n",
    "# X_train = X_train.to_pandas().reset_index(drop=True)\n",
    "# y_train = y_train.to_pandas().reset_index(drop=True)\n",
    "# X_valid = X_valid.to_pandas().reset_index(drop=True)\n",
    "# y_valid = y_valid.to_pandas().reset_index(drop=True)\n",
    "\n",
    "body_mass_model = DecisionTreeRegressor(random_state=0)\n",
    "body_mass_model.fit(X_train, y_train)\n",
    "body_mass_preds = body_mass_model.predict(X_valid)\n",
    "print(df.head())\n",
    "body_mass_preds"
   ]
  },
  {
   "cell_type": "code",
   "execution_count": 2,
   "metadata": {},
   "outputs": [
    {
     "data": {
      "text/plain": [
       "357.60869565217394"
      ]
     },
     "execution_count": 2,
     "metadata": {},
     "output_type": "execute_result"
    }
   ],
   "source": [
    "from sklearn.metrics import mean_absolute_error\n",
    "\n",
    "mean_absolute_error(y_valid, body_mass_preds)"
   ]
  }
 ],
 "metadata": {
  "kernelspec": {
   "display_name": "Python 3",
   "language": "python",
   "name": "python3"
  },
  "language_info": {
   "codemirror_mode": {
    "name": "ipython",
    "version": 3
   },
   "file_extension": ".py",
   "mimetype": "text/x-python",
   "name": "python",
   "nbconvert_exporter": "python",
   "pygments_lexer": "ipython3",
   "version": "3.11.4"
  }
 },
 "nbformat": 4,
 "nbformat_minor": 2
}
