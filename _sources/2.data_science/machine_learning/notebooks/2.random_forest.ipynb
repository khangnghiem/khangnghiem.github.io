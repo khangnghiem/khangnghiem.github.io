{
 "cells": [
  {
   "cell_type": "markdown",
   "metadata": {},
   "source": [
    "# Random Forest"
   ]
  },
  {
   "cell_type": "code",
   "execution_count": 62,
   "metadata": {},
   "outputs": [
    {
     "data": {
      "text/html": [
       "<div><style>\n",
       ".dataframe > thead > tr,\n",
       ".dataframe > tbody > tr {\n",
       "  text-align: right;\n",
       "  white-space: pre-wrap;\n",
       "}\n",
       "</style>\n",
       "<small>shape: (10, 8)</small><table border=\"1\" class=\"dataframe\"><thead><tr><th>species</th><th>island</th><th>bill_length_mm</th><th>bill_depth_mm</th><th>flipper_length_mm</th><th>body_mass_g</th><th>sex</th><th>year</th></tr><tr><td>str</td><td>str</td><td>f64</td><td>f64</td><td>f64</td><td>f64</td><td>str</td><td>i64</td></tr></thead><tbody><tr><td>&quot;Gentoo&quot;</td><td>&quot;Biscoe&quot;</td><td>43.6</td><td>13.9</td><td>217.0</td><td>4900.0</td><td>&quot;female&quot;</td><td>2008</td></tr><tr><td>&quot;Gentoo&quot;</td><td>&quot;Biscoe&quot;</td><td>43.5</td><td>14.2</td><td>220.0</td><td>4700.0</td><td>&quot;female&quot;</td><td>2008</td></tr><tr><td>&quot;Adelie&quot;</td><td>&quot;Biscoe&quot;</td><td>39.0</td><td>17.5</td><td>186.0</td><td>3550.0</td><td>&quot;female&quot;</td><td>2008</td></tr><tr><td>&quot;Gentoo&quot;</td><td>&quot;Biscoe&quot;</td><td>42.8</td><td>14.2</td><td>209.0</td><td>4700.0</td><td>&quot;female&quot;</td><td>2007</td></tr><tr><td>&quot;Gentoo&quot;</td><td>&quot;Biscoe&quot;</td><td>46.9</td><td>14.6</td><td>222.0</td><td>4875.0</td><td>&quot;female&quot;</td><td>2009</td></tr><tr><td>&quot;Adelie&quot;</td><td>&quot;Biscoe&quot;</td><td>41.4</td><td>18.6</td><td>191.0</td><td>3700.0</td><td>&quot;male&quot;</td><td>2008</td></tr><tr><td>&quot;Gentoo&quot;</td><td>&quot;Biscoe&quot;</td><td>49.1</td><td>15.0</td><td>228.0</td><td>5500.0</td><td>&quot;male&quot;</td><td>2009</td></tr><tr><td>&quot;Chinstrap&quot;</td><td>&quot;Dream&quot;</td><td>51.3</td><td>19.9</td><td>198.0</td><td>3700.0</td><td>&quot;male&quot;</td><td>2007</td></tr><tr><td>&quot;Adelie&quot;</td><td>&quot;Dream&quot;</td><td>39.5</td><td>16.7</td><td>178.0</td><td>3250.0</td><td>&quot;female&quot;</td><td>2007</td></tr><tr><td>&quot;Adelie&quot;</td><td>&quot;Biscoe&quot;</td><td>38.1</td><td>17.0</td><td>181.0</td><td>3175.0</td><td>&quot;female&quot;</td><td>2009</td></tr></tbody></table></div>"
      ],
      "text/plain": [
       "shape: (10, 8)\n",
       "┌───────────┬────────┬───────────────┬───────────────┬───────────────┬─────────────┬────────┬──────┐\n",
       "│ species   ┆ island ┆ bill_length_m ┆ bill_depth_mm ┆ flipper_lengt ┆ body_mass_g ┆ sex    ┆ year │\n",
       "│ ---       ┆ ---    ┆ m             ┆ ---           ┆ h_mm          ┆ ---         ┆ ---    ┆ ---  │\n",
       "│ str       ┆ str    ┆ ---           ┆ f64           ┆ ---           ┆ f64         ┆ str    ┆ i64  │\n",
       "│           ┆        ┆ f64           ┆               ┆ f64           ┆             ┆        ┆      │\n",
       "╞═══════════╪════════╪═══════════════╪═══════════════╪═══════════════╪═════════════╪════════╪══════╡\n",
       "│ Gentoo    ┆ Biscoe ┆ 43.6          ┆ 13.9          ┆ 217.0         ┆ 4900.0      ┆ female ┆ 2008 │\n",
       "│ Gentoo    ┆ Biscoe ┆ 43.5          ┆ 14.2          ┆ 220.0         ┆ 4700.0      ┆ female ┆ 2008 │\n",
       "│ Adelie    ┆ Biscoe ┆ 39.0          ┆ 17.5          ┆ 186.0         ┆ 3550.0      ┆ female ┆ 2008 │\n",
       "│ Gentoo    ┆ Biscoe ┆ 42.8          ┆ 14.2          ┆ 209.0         ┆ 4700.0      ┆ female ┆ 2007 │\n",
       "│ Gentoo    ┆ Biscoe ┆ 46.9          ┆ 14.6          ┆ 222.0         ┆ 4875.0      ┆ female ┆ 2009 │\n",
       "│ Adelie    ┆ Biscoe ┆ 41.4          ┆ 18.6          ┆ 191.0         ┆ 3700.0      ┆ male   ┆ 2008 │\n",
       "│ Gentoo    ┆ Biscoe ┆ 49.1          ┆ 15.0          ┆ 228.0         ┆ 5500.0      ┆ male   ┆ 2009 │\n",
       "│ Chinstrap ┆ Dream  ┆ 51.3          ┆ 19.9          ┆ 198.0         ┆ 3700.0      ┆ male   ┆ 2007 │\n",
       "│ Adelie    ┆ Dream  ┆ 39.5          ┆ 16.7          ┆ 178.0         ┆ 3250.0      ┆ female ┆ 2007 │\n",
       "│ Adelie    ┆ Biscoe ┆ 38.1          ┆ 17.0          ┆ 181.0         ┆ 3175.0      ┆ female ┆ 2009 │\n",
       "└───────────┴────────┴───────────────┴───────────────┴───────────────┴─────────────┴────────┴──────┘"
      ]
     },
     "execution_count": 62,
     "metadata": {},
     "output_type": "execute_result"
    }
   ],
   "source": [
    "from sklearn.model_selection import train_test_split\n",
    "from sklearn.compose import ColumnTransformer\n",
    "from sklearn.pipeline import Pipeline\n",
    "from sklearn.impute import SimpleImputer\n",
    "from sklearn.preprocessing import OneHotEncoder\n",
    "from sklearn.ensemble import RandomForestRegressor\n",
    "from sklearn.metrics import mean_absolute_error\n",
    "import polars as pl\n",
    "import pandas as pd\n",
    "\n",
    "df = pl.read_parquet(\"../data/penguins.parquet\")\n",
    "\n",
    "df = df.drop_nulls(\n",
    "    subset=[\n",
    "        \"bill_length_mm\",\n",
    "        \"bill_depth_mm\",\n",
    "        \"flipper_length_mm\",\n",
    "        \"body_mass_g\",\n",
    "    ]\n",
    ")\n",
    "\n",
    "df.sample(10)"
   ]
  },
  {
   "cell_type": "code",
   "execution_count": 67,
   "metadata": {},
   "outputs": [
    {
     "data": {
      "text/plain": [
       "array([4058.  , 3535.75, 3964.5 , 3487.75, 3956.5 , 4028.75, 5479.  ,\n",
       "       3476.25, 5430.5 , 3447.5 , 3305.75, 4589.25, 4412.25, 3844.  ,\n",
       "       3534.5 , 4251.  , 4534.75, 5663.5 , 3734.75, 3367.5 , 3842.75,\n",
       "       3514.75, 3800.5 , 5499.75, 3985.  , 3206.  , 5515.5 , 4132.25,\n",
       "       5511.5 , 5332.25, 3824.75, 4041.5 , 4203.75, 4449.25, 4633.75,\n",
       "       3516.5 , 4000.25, 5358.25, 3539.25, 3990.75, 3389.  , 4127.5 ,\n",
       "       4112.75, 4604.75, 3899.  , 3993.  , 4339.75, 5236.  , 4750.  ,\n",
       "       3644.75, 4110.5 , 4042.75, 4092.5 , 3845.75, 3337.25, 3987.25,\n",
       "       5529.  , 3765.5 , 3939.75, 3623.5 , 4005.5 , 3471.75, 4062.25,\n",
       "       5681.5 , 3098.75, 3431.  , 3150.25, 4458.25, 3978.25])"
      ]
     },
     "execution_count": 67,
     "metadata": {},
     "output_type": "execute_result"
    }
   ],
   "source": [
    "from operator import index\n",
    "\n",
    "\n",
    "y = df[\"body_mass_g\"]\n",
    "X = df.drop([\"body_mass_g\"])\n",
    "\n",
    "X_train, X_valid, y_train, y_valid = train_test_split(\n",
    "    X, y, train_size=0.8, test_size=0.2, random_state=0\n",
    ")\n",
    "\n",
    "numerical_cols = [\n",
    "    col for col in X_train.columns if X_train[col].dtype in [pl.Float64, pl.Int64]\n",
    "]\n",
    "categorical_columns = [\n",
    "    col for col in X_train.columns if X[col].dtype in [pl.Categorical, pl.Utf8]\n",
    "]\n",
    "numerical_transformer = SimpleImputer(strategy=\"median\")\n",
    "categorical_transformer = Pipeline(\n",
    "    steps=[\n",
    "        (\"imputer\", SimpleImputer(strategy=\"most_frequent\")),\n",
    "        (\"onehot\", OneHotEncoder(handle_unknown=\"ignore\")),\n",
    "    ]\n",
    ")\n",
    "\n",
    "preprocessor = ColumnTransformer(\n",
    "    transformers=[\n",
    "        (\"num\", numerical_transformer, numerical_cols),\n",
    "        (\"cat\", categorical_transformer, categorical_columns),\n",
    "    ]\n",
    ")\n",
    "\n",
    "model = RandomForestRegressor(n_estimators=100, random_state=0)\n",
    "\n",
    "pipeline = Pipeline(\n",
    "    steps=[\n",
    "        (\"preprocessor\", preprocessor),\n",
    "        (\"model\", model),\n",
    "    ]\n",
    ")\n",
    "\n",
    "# scikit-learn not working with polars!\n",
    "X_train = X_train.to_pandas().reset_index(drop=True)\n",
    "y_train = y_train.to_pandas().reset_index(drop=True)\n",
    "X_valid = X_valid.to_pandas().reset_index(drop=True)\n",
    "y_valid = y_valid.to_pandas().reset_index(drop=True)\n",
    "\n",
    "pipeline.fit(X_train, y_train)\n",
    "\n",
    "y_pred = pipeline.predict(X_valid)\n",
    "y_pred"
   ]
  },
  {
   "cell_type": "code",
   "execution_count": 70,
   "metadata": {},
   "outputs": [
    {
     "data": {
      "text/plain": [
       "array([3399.75])"
      ]
     },
     "execution_count": 70,
     "metadata": {},
     "output_type": "execute_result"
    }
   ],
   "source": [
    "random_pred = pipeline.predict(\n",
    "    pd.DataFrame(\n",
    "        {\n",
    "            \"species\": \"Adelie\",\n",
    "            \"island\": \"Dream\",\n",
    "            \"bill_length_mm\": 40.0,\n",
    "            \"bill_depth_mm\": 17.0,\n",
    "            \"flipper_length_mm\": 180.0,\n",
    "            \"sex\": \"female\",\n",
    "            \"year\": \"2007\",\n",
    "        },\n",
    "        index=[0],\n",
    "    )\n",
    ")\n",
    "random_pred"
   ]
  },
  {
   "cell_type": "code",
   "execution_count": 58,
   "metadata": {},
   "outputs": [
    {
     "data": {
      "text/plain": [
       "255.9963768115942"
      ]
     },
     "execution_count": 58,
     "metadata": {},
     "output_type": "execute_result"
    }
   ],
   "source": [
    "score = mean_absolute_error(y_valid, y_pred)\n",
    "score # much better than Decision Tree on numerical data only"
   ]
  }
 ],
 "metadata": {
  "kernelspec": {
   "display_name": "Python 3",
   "language": "python",
   "name": "python3"
  },
  "language_info": {
   "codemirror_mode": {
    "name": "ipython",
    "version": 3
   },
   "file_extension": ".py",
   "mimetype": "text/x-python",
   "name": "python",
   "nbconvert_exporter": "python",
   "pygments_lexer": "ipython3",
   "version": "3.12.0"
  }
 },
 "nbformat": 4,
 "nbformat_minor": 2
}
