{
 "cells": [
  {
   "cell_type": "markdown",
   "metadata": {},
   "source": [
    "# Random Forest"
   ]
  },
  {
   "cell_type": "code",
   "execution_count": 1,
   "metadata": {},
   "outputs": [
    {
     "name": "stdout",
     "output_type": "stream",
     "text": [
      "Accuracy: 1.0\n"
     ]
    }
   ],
   "source": [
    "from sklearn.ensemble import RandomForestRegressor\n",
    "from sklearn.model_selection import cross_val_score\n",
    "from sklearn.datasets import make_regression\n",
    "\n",
    "# Generate a sample regression dataset\n",
    "X, y = make_regression(n_samples=100, n_features=10, random_state=42)\n",
    "\n",
    "# Create a random forest regressor\n",
    "rf = RandomForestRegressor()\n",
    "\n",
    "# Perform cross-validation and calculate mean squared error\n",
    "mse_scores = -cross_val_score(rf, X, y, scoring='neg_mean_squared_error', cv=5)\n",
    "mean_mse = mse_scores.mean()\n",
    "\n",
    "print(f\"Mean Squared Error: {mean_mse}\")\n"
   ]
  },
  {
   "cell_type": "code",
   "execution_count": null,
   "metadata": {},
   "outputs": [],
   "source": []
  }
 ],
 "metadata": {
  "kernelspec": {
   "display_name": "Python 3",
   "language": "python",
   "name": "python3"
  },
  "language_info": {
   "codemirror_mode": {
    "name": "ipython",
    "version": 3
   },
   "file_extension": ".py",
   "mimetype": "text/x-python",
   "name": "python",
   "nbconvert_exporter": "python",
   "pygments_lexer": "ipython3",
   "version": "3.12.0"
  }
 },
 "nbformat": 4,
 "nbformat_minor": 2
}
