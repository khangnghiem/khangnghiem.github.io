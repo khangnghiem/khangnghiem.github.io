{
 "cells": [
  {
   "cell_type": "markdown",
   "metadata": {},
   "source": [
    "# Linear Regression\n",
    "\n",
    "## Linear Equation\n",
    "\n",
    "- Linear Equation: $$y = m(x) + b + (error)$$\n",
    "b: bias\n",
    "m: weight\n",
    "\n",
    "## Multivariate Linear Regression\n",
    "\n",
    "- Multivariate Linear Regression: $$y = a_1(x_1) + a_2(x_2) + ... + a_n(x_n) + b + (error)$$\n",
    "\n",
    "## Linear Regression Algorithm\n",
    "\n",
    "- Linear Regression algorithm: a repeating step in which we move a line closer to a data point until the regression line is closer to all the data points\n"
   ]
  },
  {
   "cell_type": "code",
   "execution_count": null,
   "metadata": {},
   "outputs": [],
   "source": [
    "from statistics import LinearRegression\n",
    "\n",
    "\n"
   ]
  }
 ],
 "metadata": {
  "language_info": {
   "name": "python"
  }
 },
 "nbformat": 4,
 "nbformat_minor": 2
}
