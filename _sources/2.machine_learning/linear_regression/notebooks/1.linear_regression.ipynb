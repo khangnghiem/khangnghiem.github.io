{
 "cells": [
  {
   "cell_type": "markdown",
   "metadata": {},
   "source": [
    "# Why Linear Regression?\n",
    "\n",
    "## Case Studies - Gates Foundation\n",
    "\n",
    "### Context\n",
    "In the late 1990s, the argument that smaller schools produced better results was gaining steam and powerful adherents. Research, such as that based on test results from the Pennsylvania System of School Assessments, had made a compelling argument in favor of smaller schools.\n",
    "\n",
    "### Data Analysis\n",
    "They'd gathered scores from 3rd‐, 5th‐, 8th‐, and 11th‐grade math and reading tests, plus writing scores for 6th, 9th, and 11th grade. In analyzing the data provided by 1662 separate schools, they found that of the 50 top‐scoring schools (the top 3%), 6 of them were among the 50 smallest (the smallest 3%). If the size of the school were unrelated to performance, the smallest schools should have represented just 3% of the top 50, but according to the data they actually represented 12% (6 out of 50). That's an overrepresentation by a factor of four!\n",
    "\n",
    "The Gates Foundation was sold. They began pouring money into programs designed to support small schools, nationwide. By 2001, they provided roughly $1.7 billion in grants to education projects and were quickly joined by the upper echelon of not‐for‐profits\n",
    "\n",
    "### The Flaws\n",
    "Then, in 2005, the Gates Foundation made a stunning announcement. They were moving away from converting large schools into smaller ones. They decided that improving classroom instruction was more important to improving schools rather than breaking down the size. What led them to stop after leading the charge seemingly midcourse? Turns out their initial analysis was severely flawed, and both it and the follow‐up data made a very strong case that not only were smaller schools not better, they may actually be worse.\n",
    "\n",
    "### Lesson Learned\n",
    "Among the 50 worst‐performing schools, you will find that 9 of them were among the 50 smallest schools. In others words, there was an overrepresentation by a factor of 6! Far bigger even than what they found on the positive side. Truth is, drawing conclusions based solely on that information would have been just as flawed as the other way around. \n",
    "\n",
    "All it proved is that smaller samples generate data with greater variance. When a regression was done of all the data it showed no relationship between results and school size. However, when applied to those of high school students only, the regression line showed a significant positive slope. In other words, the larger the high school the better the scores.\n",
    "\n",
    "--> All this wouldn't have happened if the regression line was drawn across all data in the beginning."
   ]
  },
  {
   "cell_type": "markdown",
   "metadata": {},
   "source": [
    "## Linear Regression\n",
    "\n",
    "### Linear Equation\n",
    "\n",
    "- Linear Equation: $$y = m(x) + b + (error)$$\n",
    "b: bias, m: weight\n",
    "\n",
    "### Multivariate Linear Regression\n",
    "\n",
    "- Multivariate Linear Regression: $$y = a_1(x_1) + a_2(x_2) + ... + a_n(x_n) + b + (error)$$\n",
    "\n",
    "### Linear Regression Algorithm\n",
    "\n",
    "- Linear Regression Algorithm: a repeating step in which we move a line closer to a data point until the regression line is closer to all the data points\n"
   ]
  },
  {
   "cell_type": "code",
   "execution_count": null,
   "metadata": {},
   "outputs": [],
   "source": []
  }
 ],
 "metadata": {
  "language_info": {
   "name": "python"
  }
 },
 "nbformat": 4,
 "nbformat_minor": 2
}
